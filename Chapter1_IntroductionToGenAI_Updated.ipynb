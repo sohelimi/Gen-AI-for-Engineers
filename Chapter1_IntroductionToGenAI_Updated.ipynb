{
 "cells": [
  {
   "cell_type": "markdown",
   "id": "ce2855c4",
   "metadata": {},
   "source": [
    "# Chapter 1: Introduction to Generative AI (Gen AI)\n",
    "\n",
    "## Concept Illustration: How Generative AI Works\n",
    "\n",
    "Generative AI focuses on creating new data based on patterns and structures learned from existing data. These models leverage techniques like transformers, attention mechanisms, and pretraining on vast datasets.\n",
    "\n",
    "Below is an infographic explaining the process of Generative AI:\n"
   ]
  },
  {
   "cell_type": "markdown",
   "id": "78b6899e",
   "metadata": {},
   "source": [
    "![Generative AI Concept](https://miro.medium.com/max/1400/1*Q2uN1nc1uxhWMryMkjVrDQ.png)\n",
    "\n",
    "This image provides a simplified overview of how generative AI models learn patterns and generate new outputs.\n"
   ]
  },
  {
   "cell_type": "markdown",
   "id": "d95cdb0b",
   "metadata": {},
   "source": [
    "## Code Example: A Simple Chatbot Using GPT-Neo\n",
    "\n",
    "Generative AI is often used for creating chatbots capable of engaging in human-like conversations. Below, we use GPT-Neo from Hugging Face's `transformers` library to create a simple chatbot.\n"
   ]
  },
  {
   "cell_type": "code",
   "execution_count": null,
   "id": "a2b58f1e",
   "metadata": {},
   "outputs": [],
   "source": [
    "from transformers import pipeline\n",
    "\n",
    "# Load GPT-Neo model for text generation\n",
    "chatbot = pipeline(\"text-generation\", model=\"EleutherAI/gpt-neo-1.3B\")\n",
    "\n",
    "# Chatbot interaction loop\n",
    "print(\"Simple Chatbot (Type 'exit' to quit)\")\n",
    "while True:\n",
    "    user_input = input(\"You: \")\n",
    "    if user_input.lower() == \"exit\":\n",
    "        print(\"Chatbot: Goodbye!\")\n",
    "        break\n",
    "    response = chatbot(f\"User: {user_input}\n",
    "Chatbot:\", max_length=50, num_return_sequences=1)\n",
    "    print(\"Chatbot:\", response[0]['generated_text'].split(\"Chatbot:\")[1].strip())\n"
   ]
  },
  {
   "cell_type": "markdown",
   "id": "1d7f570c",
   "metadata": {},
   "source": [
    "## Quiz\n",
    "\n",
    "1. What is the primary goal of Generative AI?\n",
    "   - A. To predict numerical data.\n",
    "   - B. To generate new data based on learned patterns.\n",
    "   - C. To classify images.\n",
    "\n",
    "2. Which of the following is an application of Generative AI?\n",
    "   - A. Text summarization.\n",
    "   - B. Image generation.\n",
    "   - C. Music composition.\n",
    "   - D. All of the above.\n",
    "\n",
    "---\n",
    "\n",
    "### Answers:\n",
    "1. **B**: To generate new data based on learned patterns.\n",
    "2. **D**: All of the above.\n"
   ]
  },
  {
   "cell_type": "markdown",
   "id": "327a12f2",
   "metadata": {},
   "source": [
    "## Exercise\n",
    "\n",
    "### Task:\n",
    "Modify the chatbot code to add a greeting in a local language (e.g., \"Hello!\" in Spanish: \"¡Hola!\").\n",
    "\n",
    "1. Add a default greeting message in your chatbot.\n",
    "2. When the user says \"hello\" or similar, the chatbot should respond in the local language.\n",
    "\n",
    "---\n",
    "\n",
    "### Example Solution:\n",
    "```python\n",
    "from transformers import pipeline\n",
    "\n",
    "# Load GPT-Neo model for text generation\n",
    "chatbot = pipeline(\"text-generation\", model=\"EleutherAI/gpt-neo-1.3B\")\n",
    "\n",
    "# Chatbot interaction loop with a greeting\n",
    "print(\"Simple Chatbot (Type 'exit' to quit)\")\n",
    "print(\"Chatbot: ¡Hola! (Hello in Spanish)\")\n",
    "while True:\n",
    "    user_input = input(\"You: \")\n",
    "    if user_input.lower() == \"exit\":\n",
    "        print(\"Chatbot: Adiós! (Goodbye in Spanish)\")\n",
    "        break\n",
    "    elif user_input.lower() in [\"hello\", \"hi\", \"hola\"]:\n",
    "        print(\"Chatbot: ¡Hola! ¿Cómo estás? (Hello! How are you?)\")\n",
    "    else:\n",
    "        response = chatbot(f\"User: {user_input}\n",
    "Chatbot:\", max_length=50, num_return_sequences=1)\n",
    "        print(\"Chatbot:\", response[0]['generated_text'].split(\"Chatbot:\")[1].strip())\n",
    "```\n"
   ]
  }
 ],
 "metadata": {
  "kernelspec": {
   "display_name": "Python 3 (ipykernel)",
   "language": "python",
   "name": "python3"
  },
  "language_info": {
   "codemirror_mode": {
    "name": "ipython",
    "version": 3
   },
   "file_extension": ".py",
   "mimetype": "text/x-python",
   "name": "python",
   "nbconvert_exporter": "python",
   "pygments_lexer": "ipython3",
   "version": "3.11.7"
  }
 },
 "nbformat": 4,
 "nbformat_minor": 5
}
